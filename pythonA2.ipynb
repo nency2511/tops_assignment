{
 "cells": [
  {
   "cell_type": "code",
   "execution_count": 12,
   "id": "45764f56",
   "metadata": {},
   "outputs": [
    {
     "name": "stdout",
     "output_type": "stream",
     "text": [
      "enter your string: nency\n",
      "your length of string is = 5\n"
     ]
    }
   ],
   "source": [
    "#Q1: Write a Python program to calculate the length of a string.\n",
    "\n",
    "str1=str(input(\"enter your string: \"))\n",
    "print(f\"your length of string is = {len(str1)}\")\n"
   ]
  },
  {
   "cell_type": "code",
   "execution_count": 6,
   "id": "b30319f5",
   "metadata": {},
   "outputs": [
    {
     "name": "stdout",
     "output_type": "stream",
     "text": [
      "enter your string: nency nency\n",
      "\n",
      "enter your character of string you want to count: n\n",
      "\n",
      "your n is 4 times in your string\n"
     ]
    }
   ],
   "source": [
    "#Q2:Write a Python program to count the number of characters (character frequency) in a string.\n",
    "\n",
    "str1=str(input(\"enter your string: \"))\n",
    "n=str(input(\"\\nenter your character of string you want to count: \"))\n",
    "\n",
    "print(f\"\\nyour {n} is {str1.count(n)} times in your string\")\n"
   ]
  },
  {
   "cell_type": "code",
   "execution_count": null,
   "id": "7fa1ce5f",
   "metadata": {},
   "outputs": [],
   "source": [
    "#Q3: What are negative indexes and why are they used?\n",
    "\n",
    "    indexs are used in arrays in all programming languages.we can access the elements of an array by going\n",
    "    through their indexs.but no programming language allows us to use negative index value such as -4.\n",
    "    python programming language supports negative indexing of arrays, which is not available in arrays in\n",
    "    most other programming languages.this means that the negative index value of -1 gives the last element and\n",
    "    -2 gives the second last element of an array.the negative indexing starts from where the array ends.\n",
    "    this means that the last element of the array is the first element in the negative indexing which is -1.\n",
    "    "
   ]
  },
  {
   "cell_type": "code",
   "execution_count": 16,
   "id": "f62527d7",
   "metadata": {
    "scrolled": false
   },
   "outputs": [
    {
     "name": "stdout",
     "output_type": "stream",
     "text": [
      "['hello!', 'my', 'name', 'is', 'nency,', 'and', \"i'm\", '19', 'years', 'old!']\n"
     ]
    }
   ],
   "source": [
    "#Q4: Explain split(), sub(), subn() methods of “re” module in Python.\n",
    "\n",
    "# 1] split() is splits all words in the string which are connected by the space.\n",
    "#for example:\n",
    "    \n",
    "str1=\"hello! my name is nency, and i'm 19 years old!\"\n",
    "print(str1.split())\n"
   ]
  },
  {
   "cell_type": "code",
   "execution_count": 3,
   "id": "9a959913",
   "metadata": {},
   "outputs": [
    {
     "name": "stdout",
     "output_type": "stream",
     "text": [
      "n**cy\n",
      "enter any string:he is not a poor person\n",
      "he is not a good person\n",
      "he is  a poor person\n",
      "('he is  a poor person', 1)\n"
     ]
    }
   ],
   "source": [
    "# 2] re.sub() is a function which allows any characters of string to modify by other characters as well as special\n",
    "#charcaters too.\n",
    "#for example:\n",
    "import re\n",
    "\n",
    "\n",
    "print(re.sub('en', '**', 'nency'))\n"
   ]
  },
  {
   "cell_type": "code",
   "execution_count": 41,
   "id": "605bb529",
   "metadata": {},
   "outputs": [
    {
     "name": "stdout",
     "output_type": "stream",
     "text": [
      "enter any string: nency nency nency nency nency nency \n",
      "('n~~cy n~~cy n~~cy n~~cy n~~cy n~~cy ', 6)\n"
     ]
    }
   ],
   "source": [
    "# 3] re.subn() is function which counts the numbers of modifying chraracters.\n",
    "#for example:\n",
    "\n",
    "import re\n",
    "str1=input(\"enter any string: \")\n",
    "print(re.subn('en','~~',f\"{str1}\"))\n"
   ]
  },
  {
   "cell_type": "code",
   "execution_count": null,
   "id": "dbff9c54",
   "metadata": {},
   "outputs": [],
   "source": [
    "#Q5: How do you perform pattern matching in Python? Explain.\n",
    "\n",
    "    The simplest way to match text using patterns is to use the re module, which provides full \n",
    "    support for regular expressions in python. You can compile a pattern using the re.compile function, \n",
    "    and then use the resulting pattern object to match against text using the match or search functions.\n",
    "    "
   ]
  },
  {
   "cell_type": "code",
   "execution_count": 5,
   "id": "7d0f9a51",
   "metadata": {
    "scrolled": true
   },
   "outputs": [
    {
     "name": "stdout",
     "output_type": "stream",
     "text": [
      "enter any string: nency nency\n",
      "\n",
      "enter any substring you want to count: n\n",
      "\n",
      "\t\t\t\t\tyour substring  ___n___  is  ___4___ times used in main string.\n"
     ]
    }
   ],
   "source": [
    "#Q6:  Write a Python program to count occurrences of a substring in a string.\n",
    "\n",
    "str1=input(\"enter any string: \")\n",
    "str2=input(\"\\nenter any substring you want to count: \")\n",
    "print(f\"\\n\\t\\t\\t\\t\\tyour substring  ___{str2}___  is  ___{str1.count(str2)}___ times used in main string.\")\n"
   ]
  },
  {
   "cell_type": "code",
   "execution_count": 9,
   "id": "b027e60e",
   "metadata": {},
   "outputs": [
    {
     "name": "stdout",
     "output_type": "stream",
     "text": [
      "enter any string: hello hye good morning, good afternoon\n",
      "enter word you want to count: good\n",
      "2\n"
     ]
    }
   ],
   "source": [
    "#Q7: Write a Python program to count the occurrences of each word in a given sentence\n",
    "\n",
    "str1=input(\"enter any string: \")\n",
    "words=str1.split()\n",
    "#print(words)\n",
    "str2=input(\"enter word you want to count: \")\n",
    "print(words.count(str2))\n"
   ]
  },
  {
   "cell_type": "code",
   "execution_count": 50,
   "id": "a181fe7f",
   "metadata": {
    "scrolled": true
   },
   "outputs": [
    {
     "name": "stdout",
     "output_type": "stream",
     "text": [
      "enter first string: nency\n",
      "enter second string: sojitra\n",
      "nencysojitra\n",
      "nency sojitra\n",
      "enncy\n",
      "osjitra\n",
      "enncy osjitra\n"
     ]
    }
   ],
   "source": [
    "#Q8:Write a Python program to get a single string from two given strings,\n",
    "#separated by a space and swap the first two characters of each string.\n",
    "\n",
    "a=input(\"enter first string: \")\n",
    "b=input(\"enter second string: \")\n",
    "c=a+b\n",
    "c1=a+\" \"+b\n",
    "print(c)\n",
    "print(c1)\n",
    "a1=a[1]+a[0]+a[2:]\n",
    "b1=b[1]+b[0]+b[2:]\n",
    "print(a1)\n",
    "print(b1)\n",
    "new_str=a1+\" \"+b1\n",
    "print(new_str)\n"
   ]
  },
  {
   "cell_type": "code",
   "execution_count": 45,
   "id": "760cb273",
   "metadata": {},
   "outputs": [
    {
     "name": "stdout",
     "output_type": "stream",
     "text": [
      "enter any string:abc\n",
      "abcing\n"
     ]
    }
   ],
   "source": [
    "#Q9: Write a Python program to add 'ing' at the end of a given string(length should be at least 3).\n",
    "#If the given string already ends with 'ing' then add 'ly' instead\n",
    "#If the string length of the given string is less than 3, leave it unchanged\n",
    "\n",
    "\n",
    "str1=input(\"enter any string:\")\n",
    "(len(str1))\n",
    "\n",
    "if len(str1)>=3:\n",
    "   \n",
    "    if str1.endswith(\"ing\"): \n",
    "            str1+=\"ly\"\n",
    "    else:    \n",
    "        str1+=\"ing\"\n",
    "\n",
    "print(str1)        \n",
    "    "
   ]
  },
  {
   "cell_type": "code",
   "execution_count": 9,
   "id": "d7a876ce",
   "metadata": {},
   "outputs": [
    {
     "name": "stdout",
     "output_type": "stream",
     "text": [
      "enter string:he is not very poor person\n",
      "he is good person\n"
     ]
    }
   ],
   "source": [
    "#Q10: Write a Python program to find the first appearance of the substring 'not'\n",
    "#and 'poor' from a given string, if 'not' follows the 'poor', replace the whole 'not'...'poor'\n",
    "#substring with 'good'. Return the resulting string.\n",
    "\n",
    "\n",
    "str1=input(\"enter string:\")\n",
    "a=str1.find(\"not\")\n",
    "b=str1.find(\"poor\")\n",
    "if a<b:\n",
    "    str2=str1.replace(str1[a:b+4],\"good\")\n",
    "    print(str2)\n",
    "else:\n",
    "    print(str1)"
   ]
  },
  {
   "cell_type": "code",
   "execution_count": 22,
   "id": "6931bc1a",
   "metadata": {},
   "outputs": [
    {
     "name": "stdout",
     "output_type": "stream",
     "text": [
      "enter string: hello hy\n"
     ]
    },
    {
     "data": {
      "text/plain": [
       "'hello'"
      ]
     },
     "execution_count": 22,
     "metadata": {},
     "output_type": "execute_result"
    }
   ],
   "source": [
    "#Q11: Write a Python function that takes a list of words and returns the length of the longest one.\n",
    "\n",
    "str1=str(input(\"enter string: \"))\n",
    "list1=str1.split(\" \")\n",
    "list2=[]\n",
    "for i in list1:\n",
    "    list2.append(len(i))\n",
    "    \n",
    "a=list2.index(max(list2))\n",
    "list1[a]"
   ]
  },
  {
   "cell_type": "code",
   "execution_count": 16,
   "id": "2cd76288",
   "metadata": {},
   "outputs": [
    {
     "name": "stdout",
     "output_type": "stream",
     "text": [
      "enter any string: helloooo\n",
      "8\n",
      "oooolleh\n"
     ]
    }
   ],
   "source": [
    "#Q12: Write a Python function to reverses a string if it's length is a multiple of 4\n",
    "\n",
    "str1=input(\"enter any string: \")\n",
    "print(len(str1))\n",
    "\n",
    "if len(str1)%4==0:\n",
    "    print(str1[::-1])\n",
    "    \n",
    "else:\n",
    "    print(\"error\")"
   ]
  },
  {
   "cell_type": "code",
   "execution_count": 51,
   "id": "55325e2e",
   "metadata": {},
   "outputs": [
    {
     "name": "stdout",
     "output_type": "stream",
     "text": [
      "enter any string:NENCY\n",
      "NECY\n"
     ]
    }
   ],
   "source": [
    "#Q13.Write a Python program to get a string made of the first 2 and the last 2 chars\n",
    "#from a given a string. If the string length is less than 2, return instead of the empty string.\n",
    "#Go to the editor\n",
    "#Sample String : 'w3resource'\n",
    "#Expected Result : 'w3ce'\n",
    "#Sample String : 'w3'\n",
    "#Expected Result : 'w3w3'\n",
    "#Sample String : ' w'\n",
    "#Expected Result : Empty String\n",
    "\n",
    "str1=input(\"enter any string:\")\n",
    "\n",
    "if len(str1)==2:\n",
    "    print(str1+str1)\n",
    "    \n",
    "elif len(str1)==1:\n",
    "    print(\"empty string\")\n",
    "    \n",
    "else:\n",
    "    print(str1[0:2]+ str1[-2::1])"
   ]
  },
  {
   "cell_type": "code",
   "execution_count": 15,
   "id": "e1763b3f",
   "metadata": {},
   "outputs": [
    {
     "name": "stdout",
     "output_type": "stream",
     "text": [
      "enter any string:nency sojitra\n",
      "$ency\n",
      "$ency $ojitra\n"
     ]
    }
   ],
   "source": [
    "#Q14.Write a Python program to get a string from a given string where all occurrences\n",
    "#of its first char have been changed to '$', except the first char itself\n",
    "\n",
    "\n",
    "str1=input(\"enter any string:\")\n",
    "words=str1.split(\" \")\n",
    "#print(words)\n",
    "list2=[]\n",
    "\n",
    "for i in words:\n",
    "    list1=list(i)\n",
    "    \n",
    "    #print(list1)\n",
    "    list1[0]=\"$\"\n",
    "    #print(list1)\n",
    "    words1=\"\".join(list1)\n",
    "    #print(words1)\n",
    "    list2.append(words1)\n",
    "    #print(list2)\n",
    "    str2=\" \".join(list2)\n",
    "    print(str2)\n",
    "\n",
    "   "
   ]
  },
  {
   "cell_type": "code",
   "execution_count": 39,
   "id": "12fd564b",
   "metadata": {},
   "outputs": [
    {
     "name": "stdout",
     "output_type": "stream",
     "text": [
      "enter any string: he boy\n",
      "enter middle string: is\n",
      "he  is boy\n"
     ]
    }
   ],
   "source": [
    "#Q15:Write a Python function to insert a string in the middle of a string.\n",
    "\n",
    "str1=input(\"enter any string: \")\n",
    "str2=input(\"enter middle string: \")\n",
    "(len(str1))\n",
    "\n",
    "\n",
    "y=len(str1)//2\n",
    "\n",
    "add=str1[:y]+ \" \"+str2+\" \"+str1[y:]\n",
    "print(add)"
   ]
  },
  {
   "cell_type": "code",
   "execution_count": 45,
   "id": "b279ff4a",
   "metadata": {},
   "outputs": [
    {
     "name": "stdout",
     "output_type": "stream",
     "text": [
      "[3, 2, 1]\n"
     ]
    }
   ],
   "source": [
    "#Module 2[Collections] Assignment\n",
    "#Topic:List\n",
    "\n",
    "#Q16.What is List?How will you reverse a list? \n",
    "\n",
    "#list is ordered and mutable collection.\n",
    "\n",
    "list1=[1,2,3]\n",
    "print(list1[::-1])"
   ]
  },
  {
   "cell_type": "code",
   "execution_count": 48,
   "id": "405fef6f",
   "metadata": {},
   "outputs": [
    {
     "name": "stdout",
     "output_type": "stream",
     "text": [
      "[1, 2]\n"
     ]
    }
   ],
   "source": [
    "#Q17.How will you remove last object from a list?\n",
    "\n",
    "list1=[1,2,3]\n",
    "(list1.pop())\n",
    "print(list1)"
   ]
  },
  {
   "cell_type": "code",
   "execution_count": 54,
   "id": "fc6d7c11",
   "metadata": {},
   "outputs": [
    {
     "name": "stdout",
     "output_type": "stream",
     "text": [
      "25\n"
     ]
    }
   ],
   "source": [
    "#B3.Suppose list1 is [2, 33, 222, 14, 25], What is list1[-1] ?\n",
    "\n",
    "list1=[2,33,222,14,25]\n",
    "print(list1[-1])\n",
    "\n",
    "#here [-1] is a index of last element in the list"
   ]
  },
  {
   "cell_type": "code",
   "execution_count": 63,
   "id": "fafed26f",
   "metadata": {},
   "outputs": [
    {
     "name": "stdout",
     "output_type": "stream",
     "text": [
      "[1, 2, 3, 2]\n",
      "[1, 2, 3, 2, ' ']\n"
     ]
    }
   ],
   "source": [
    "#Q18.Differentiate between append() and extend() methods.?\n",
    "\n",
    "list1=[1,2,3]\n",
    "list1.append(2)\n",
    "print(list1)\n",
    "list1.extend(\" \")\n",
    "print(list1)\n",
    "\n",
    "\n",
    "# append() --add element at last of list\n",
    "# append() --add element at last of list\n",
    "# list1.extend(45)-------------not accept single values\n"
   ]
  },
  {
   "cell_type": "code",
   "execution_count": 67,
   "id": "91f26b3e",
   "metadata": {},
   "outputs": [
    {
     "name": "stdout",
     "output_type": "stream",
     "text": [
      "5\n",
      "1\n",
      "15\n"
     ]
    }
   ],
   "source": [
    "#Q19. Write a Python function to get the largest number, smallest num and sum of all from a list\n",
    "\n",
    "list1=[1,2,3,4,5]\n",
    "print(max(list1))\n",
    "print(min(list1))\n",
    "print(sum(list1))"
   ]
  },
  {
   "cell_type": "code",
   "execution_count": 71,
   "id": "f743bc7b",
   "metadata": {},
   "outputs": [
    {
     "name": "stdout",
     "output_type": "stream",
     "text": [
      "[1, 2, 3, 4, 5]\n",
      "[1, 2, 3, 4, 5]\n",
      "list1 is list2\n"
     ]
    }
   ],
   "source": [
    "#Q20.How will you compare two lists?\n",
    "list1=[1,2,3,4,5]\n",
    "list2=[2,3,1,4,5]\n",
    "list1.sort()\n",
    "list2.sort()\n",
    "print(list1)\n",
    "print(list2)\n",
    "\n",
    "if list1==list2:\n",
    "    print(\"list1 is list2\")\n",
    "else:\n",
    "    print(\"list1 is not list2\")"
   ]
  },
  {
   "cell_type": "code",
   "execution_count": 87,
   "id": "83f405e9",
   "metadata": {},
   "outputs": [
    {
     "name": "stdout",
     "output_type": "stream",
     "text": [
      "enter any string:xyxx jhjh kjkj lkl\n",
      "['xyxx', 'jhjh', 'kjkj', 'lkl']\n",
      "2\n"
     ]
    }
   ],
   "source": [
    "#Q21. Write a Python program to count the number of strings where the string length is 2 or more and the\n",
    "#first and last character are same from a given list of strings\n",
    "\n",
    "str1=input(\"enter any string:\")\n",
    "words=str1.split(\" \")\n",
    "count=0\n",
    "print(words)\n",
    "for i in words:\n",
    "        if len(i)>=2:\n",
    "            l1=list(i)\n",
    "           # print(l1)\n",
    "            if l1[0]==l1[-1]:\n",
    "                   count+=1\n",
    "print(count)\n"
   ]
  },
  {
   "cell_type": "code",
   "execution_count": 20,
   "id": "a5fc1067",
   "metadata": {},
   "outputs": [
    {
     "name": "stdout",
     "output_type": "stream",
     "text": [
      "enter:1234512\n",
      "['1', '5', '4', '2', '3']\n"
     ]
    }
   ],
   "source": [
    "#Q22.Write a Python program to remove duplicates from a list\n",
    "\n",
    "l1=list(input(\"enter:\"))\n",
    "#print(l1)\n",
    "\n",
    "set1=set(l1)\n",
    "#print(set1)\n",
    "\n",
    "l1=list(set1)\n",
    "print(l1)"
   ]
  },
  {
   "cell_type": "code",
   "execution_count": 9,
   "id": "93e704cd",
   "metadata": {},
   "outputs": [
    {
     "name": "stdout",
     "output_type": "stream",
     "text": [
      "enter your list:\n",
      "__empty list__\n"
     ]
    }
   ],
   "source": [
    "#Q23.Write a Python program to check a list is empty or not.\n",
    "\n",
    "l1=list(input(\"enter your list:\"))\n",
    "\n",
    "if len(l1)==0:\n",
    "    print(\"__empty list__\")\n",
    "    \n",
    "else:    \n",
    "    print(l1)    "
   ]
  },
  {
   "cell_type": "code",
   "execution_count": 101,
   "id": "08d4777c",
   "metadata": {},
   "outputs": [
    {
     "name": "stdout",
     "output_type": "stream",
     "text": [
      "enter your list1: 45\n",
      "enter your list2: 2\n",
      "['4', '5']\n",
      "['2']\n",
      "false\n",
      "false\n"
     ]
    }
   ],
   "source": [
    "#Q24.Write a Python function that takes two lists and returns True if they have at least one common member\n",
    "\n",
    "l1=list(input(\"enter your list1: \"))\n",
    "l2=list(input(\"enter your list2: \"))\n",
    "print(l1)\n",
    "print(l2)\n",
    "for x in l1:\n",
    "    (x)\n",
    "    for y in l2:\n",
    "        (y)\n",
    "               \n",
    "        if x==y:\n",
    "            print(\"true\")\n",
    "            break\n",
    "          \n",
    "        else:\n",
    "            print(\"false\")\n",
    "            break"
   ]
  },
  {
   "cell_type": "code",
   "execution_count": 19,
   "id": "4685eaa3",
   "metadata": {},
   "outputs": [
    {
     "name": "stdout",
     "output_type": "stream",
     "text": [
      "[1, 4, 9, 16, 25]\n",
      "[676, 729, 784, 841, 900]\n"
     ]
    }
   ],
   "source": [
    "#Q25.Write a Python program to generate and print a list of first and last 5 elements\n",
    "#where the values are square of numbers between 1 and 30\n",
    "\n",
    "\n",
    "list1=[]\n",
    "for i in range(1,31):\n",
    "    list1.append(i*i)\n",
    "print(list1[:5])\n",
    "print(list1[-5:])\n",
    "\n"
   ]
  },
  {
   "cell_type": "code",
   "execution_count": 26,
   "id": "56121681",
   "metadata": {},
   "outputs": [
    {
     "name": "stdout",
     "output_type": "stream",
     "text": [
      "enter:123654\n",
      "orginal list:   ['1', '2', '3', '6', '5', '4']\n",
      "list with only unique elements:   ['1', '5', '4', '2', '3', '6']\n"
     ]
    }
   ],
   "source": [
    "#Q26. Write a Python function that takes a list and returns a new list with unique elements of the first list.\n",
    "\n",
    "l1=list(input(\"enter:\"))\n",
    "print(f\"orginal list:   {l1}\")\n",
    "\n",
    "set1=set(l1)\n",
    "#print(set1)\n",
    "\n",
    "l1=list(set1)\n",
    "print(f\"list with only unique elements:   {l1}\")"
   ]
  },
  {
   "cell_type": "code",
   "execution_count": 45,
   "id": "ea5e766d",
   "metadata": {
    "scrolled": true
   },
   "outputs": [
    {
     "name": "stdout",
     "output_type": "stream",
     "text": [
      "enter list: nency\n",
      "['n', 'e', 'n', 'c', 'y']\n",
      "nency\n"
     ]
    }
   ],
   "source": [
    "#Q27. Write a Python program to convert a list of characters into a string\n",
    "\n",
    "l1=list(input(\"enter list: \"))\n",
    "print(l1)\n",
    "str1=\"\".join(l1)\n",
    "print(str1)    \n"
   ]
  },
  {
   "cell_type": "code",
   "execution_count": 50,
   "id": "97d491e1",
   "metadata": {},
   "outputs": [
    {
     "name": "stdout",
     "output_type": "stream",
     "text": [
      "Black\n"
     ]
    },
    {
     "data": {
      "text/plain": [
       "'from random import choice\\ndef random_element(lst):\\n  return choice(lst) \\nprint(random_element([2, 3, 4, 7, 9, 11, 15]))\\n'"
      ]
     },
     "execution_count": 50,
     "metadata": {},
     "output_type": "execute_result"
    }
   ],
   "source": [
    "#Q28.Write a Python program to select an item randomly from a list.\n",
    "\n",
    "import random\n",
    "\n",
    "l1=list(input(\"enter list: \"))\n",
    "print(random.choice(l1))"
   ]
  },
  {
   "cell_type": "code",
   "execution_count": 12,
   "id": "951d3223",
   "metadata": {
    "scrolled": true
   },
   "outputs": [
    {
     "name": "stdout",
     "output_type": "stream",
     "text": [
      "enter list: 1570\n",
      "['1', '5', '7', '0']\n",
      "['0', '1', '5', '7']\n",
      "second smallest  number:1\n"
     ]
    }
   ],
   "source": [
    "#Q29.Write a Python program to find the second smallest number in a list. \n",
    "\n",
    "l1=list(input(\"enter list: \"))\n",
    "print(l1)\n",
    "l1.sort()\n",
    "print(l1)\n",
    "print(f\"second smallest  number:{l1[1]}\")"
   ]
  },
  {
   "cell_type": "code",
   "execution_count": 69,
   "id": "4919ee17",
   "metadata": {},
   "outputs": [
    {
     "name": "stdout",
     "output_type": "stream",
     "text": [
      "no\n",
      "no\n",
      "yes\n"
     ]
    }
   ],
   "source": [
    "#Q30.Write a Python program to check whether a list contains a sublist \n",
    "\n",
    "list1=[1,2,[1,2],3,4,5,\"string\",True]\n",
    "for i in list1:\n",
    "    type(i)\n",
    "   # print(a)\n",
    "    if type(i)==list:\n",
    "        print(\"yes\")\n",
    "        break\n",
    "    else:\n",
    "        print(\"no\")\n",
    "        \n",
    "      "
   ]
  },
  {
   "cell_type": "code",
   "execution_count": 86,
   "id": "99e3ae98",
   "metadata": {},
   "outputs": [
    {
     "name": "stdout",
     "output_type": "stream",
     "text": [
      "enter list: nenyc\n",
      "['n', 'e', 'n', 'y', 'c']\n",
      "nenyc\n",
      "n\n"
     ]
    }
   ],
   "source": [
    "#Q31: Write a Python program to split a list into different variables.\n",
    "\n",
    "list1=list(input(\"enter list: \"))\n",
    "print(list1)\n",
    "a=\"\".join(list1)\n",
    "print(a)\n",
    "for i in a:\n",
    "    print(a[0])\n",
    "    break"
   ]
  },
  {
   "cell_type": "code",
   "execution_count": null,
   "id": "10166ed4",
   "metadata": {},
   "outputs": [],
   "source": [
    "#Q32.What is tuple?Difference between list and tuple\n",
    "\n",
    "\tLIST                                                               \tTUPLE\n",
    "    \n",
    "\tLists are mutable                                                  \tTuples are immutable\n",
    "    \n",
    " \tThe list is better for performing operations,                      \tTuple data type is appropriate for\n",
    "    such as insertion and deletion.                                                 accessing the elements\n",
    "    \n",
    "\tLists consume more memory                                          \tTuple consumes less memory as compared \n",
    "    \n",
    "\tLists have several built-in methods                                \tTuple does not have many built-in methods.\n",
    "    to the list\n",
    "    \n",
    "\tThe unexpected changes and errors are more likely to occur         \tThe unexpected changes and errors are more\n",
    "                                                                                    likely to occur\tIn tuple, it is hard to \n",
    "                                                                                    take place.                                                                  \n",
    "\n",
    "\n"
   ]
  },
  {
   "cell_type": "code",
   "execution_count": 57,
   "id": "40aab2b4",
   "metadata": {},
   "outputs": [
    {
     "name": "stdout",
     "output_type": "stream",
     "text": [
      "(1, 2.3, True, (1, 2), 'string', [1, 2], {4, 5}, {1: 'hello'})\n"
     ]
    }
   ],
   "source": [
    "#Q33.Write a Python program to create a tuple with different data types \n",
    "\n",
    "tup1=(1,2.3,True,(1,2),\"string\",[1,2],{4,5},{1:\"hello\"})\n",
    "print(tup1)"
   ]
  },
  {
   "cell_type": "code",
   "execution_count": 63,
   "id": "b78c9429",
   "metadata": {
    "scrolled": true
   },
   "outputs": [
    {
     "name": "stdout",
     "output_type": "stream",
     "text": [
      "enter numberss: 123\n",
      "('1', '2', '3')\n"
     ]
    }
   ],
   "source": [
    "#Q34. Write a Python program to create a tuple with numbers\n",
    "\n",
    "tup1=(input(\"enter numberss: \"))\n",
    "print(tuple(tup1))"
   ]
  },
  {
   "cell_type": "code",
   "execution_count": 68,
   "id": "88d85864",
   "metadata": {},
   "outputs": [
    {
     "name": "stdout",
     "output_type": "stream",
     "text": [
      "enter tuple: nency\n",
      "('n', 'e', 'n', 'c', 'y')\n",
      "nency\n"
     ]
    }
   ],
   "source": [
    "#Q35.Write a Python program to convert a tuple to a string\n",
    "\n",
    "tup1=tuple(input(\"enter tuple: \"))\n",
    "print(tup1)\n",
    "a=\"\".join(tup1)\n",
    "print(a)"
   ]
  },
  {
   "cell_type": "code",
   "execution_count": 70,
   "id": "bd0cce6a",
   "metadata": {},
   "outputs": [
    {
     "name": "stdout",
     "output_type": "stream",
     "text": [
      "enter tuple: 456\n",
      "enter element you want to cheack it exist within a tuple:87\n",
      "False\n"
     ]
    }
   ],
   "source": [
    "#Q36.Write a Python program to check whether an element exists within a tuple \n",
    "\n",
    "tup1=tuple(input(\"enter tuple: \"))\n",
    "a=input(\"enter element you want to cheack it exist within a tuple:\")\n",
    "print(a in tup1)"
   ]
  },
  {
   "cell_type": "code",
   "execution_count": 74,
   "id": "864abcf9",
   "metadata": {},
   "outputs": [
    {
     "name": "stdout",
     "output_type": "stream",
     "text": [
      "enter tuple: 456987\n",
      "('4', '5', '6', '9', '8', '7')\n",
      "6\n"
     ]
    }
   ],
   "source": [
    "#Q37.Write a Python program to find the length of a tuple.\n",
    "\n",
    "tup1=tuple(input(\"enter tuple: \"))\n",
    "print(tup1)\n",
    "len1=len(tup1)\n",
    "print(len1)"
   ]
  },
  {
   "cell_type": "code",
   "execution_count": 78,
   "id": "7ab61010",
   "metadata": {},
   "outputs": [
    {
     "name": "stdout",
     "output_type": "stream",
     "text": [
      "enter list: nency\n",
      "['n', 'e', 'n', 'c', 'y']\n",
      "('n', 'e', 'n', 'c', 'y')\n"
     ]
    }
   ],
   "source": [
    "#Q38.Write a Python program to convert a list to a tuple\n",
    "\n",
    "list1=list(input(\"enter list: \"))\n",
    "print(list1)\n",
    "tup1=tuple(list1)\n",
    "print(tup1)"
   ]
  },
  {
   "cell_type": "code",
   "execution_count": 80,
   "id": "5e036f83",
   "metadata": {},
   "outputs": [
    {
     "name": "stdout",
     "output_type": "stream",
     "text": [
      "enter tuple:nency\n",
      "('n', 'e', 'n', 'c', 'y')\n",
      "('y', 'c', 'n', 'e', 'n')\n"
     ]
    }
   ],
   "source": [
    "#Q39. Write a Python program to reverse a tuple\n",
    "\n",
    "tup1=tuple(input(\"enter tuple:\"))\n",
    "print(tup1)\n",
    "print(tup1[::-1])"
   ]
  },
  {
   "cell_type": "code",
   "execution_count": 84,
   "id": "0d4eebfa",
   "metadata": {},
   "outputs": [
    {
     "name": "stdout",
     "output_type": "stream",
     "text": [
      "[1, 2, 3, 4, (45, 69, 'hello'), 45, 69, 87, (48, 96, 54, 'hello')]\n"
     ]
    }
   ],
   "source": [
    "#Q40.Write a Python program to replace last value of tuples in a list \n",
    "\n",
    "list1=list(input(\"enter \"))\n",
    "list2=[]\n",
    "for i in list1:\n",
    "    if type(i)==tuple:\n",
    "        t1=list(i)\n",
    "       # print(i)\n",
    "        t1[-1]=\"hello\"\n",
    "        t1=tuple(t1)\n",
    "        list2.append(t1)\n",
    "    else:\n",
    "        list2.append(i)\n",
    "print(list2)        \n",
    "        "
   ]
  },
  {
   "cell_type": "code",
   "execution_count": 7,
   "id": "58e17fcc",
   "metadata": {},
   "outputs": [
    {
     "name": "stdout",
     "output_type": "stream",
     "text": [
      "enter tuple: 121\n",
      "REPEATED\n"
     ]
    }
   ],
   "source": [
    "#Q41.Write a Python program to find the repeated items of a tuple\n",
    "\n",
    "tup1=tuple(input(\"enter tuple: \")) \n",
    "for i in tup1:\n",
    "    if tup1.count(i) > 1:\n",
    "        print(\"REPEATED\")\n",
    "        break\n",
    "    else:\n",
    "        print(\"not repeated\")\n",
    "        break"
   ]
  },
  {
   "cell_type": "code",
   "execution_count": 118,
   "id": "986ad24d",
   "metadata": {
    "scrolled": true
   },
   "outputs": [
    {
     "name": "stdout",
     "output_type": "stream",
     "text": [
      "[(1, 2, 3), (4.5, 6, 8), ('ram', 'black', 'great')]\n"
     ]
    }
   ],
   "source": [
    "#Q42.Write a Python program to remove an empty tuple(s) from a list of tuples. \n",
    "\n",
    "list1=[(1,2,3),(4.5,6,8),(),(\"ram\",\"black\",\"great\"),()]\n",
    "list1=[tup1 for tup1 in list1 if tup1]\n",
    "print(list1)\n"
   ]
  },
  {
   "cell_type": "code",
   "execution_count": 119,
   "id": "eb7a6c9d",
   "metadata": {},
   "outputs": [],
   "source": [
    "#Q43: Write a Python program to unzip a list of tuples into individual lists\n",
    "\n"
   ]
  },
  {
   "cell_type": "code",
   "execution_count": 122,
   "id": "b55086a6",
   "metadata": {},
   "outputs": [
    {
     "name": "stdout",
     "output_type": "stream",
     "text": [
      "{(1, 2, 3): [('hy', 'hello', 'good'), ('*', '**', '***')], (4, 5, 6): [('hy', 'hello', 'good'), ('*', '**', '***')]}\n"
     ]
    }
   ],
   "source": [
    "#Q:44: Write a Python program to convert a list of tuples into a dictionary\n",
    "\n",
    "list1=[(1,2,3),(4,5,6)]\n",
    "list2=[(\"hy\",\"hello\",\"good\"),(\"*\",\"**\",\"***\")]\n",
    "dict1=dict.fromkeys(list1,list2)\n",
    "print(dict1)"
   ]
  },
  {
   "cell_type": "code",
   "execution_count": null,
   "id": "664b95c1",
   "metadata": {},
   "outputs": [],
   "source": [
    "#Q45: What is Dictionaries?\n",
    "\n",
    "it is collection of keys and values\n",
    "it is orderd but not with index with the key\n",
    "it is mutable changes allowed"
   ]
  },
  {
   "cell_type": "code",
   "execution_count": 125,
   "id": "11fcd4f7",
   "metadata": {},
   "outputs": [
    {
     "name": "stdout",
     "output_type": "stream",
     "text": [
      "dict_keys([1, 2])\n"
     ]
    }
   ],
   "source": [
    "#Q46: How will you create a dictionary in python?How will you get all the keys from the dictionary?\n",
    "\n",
    "dict1={1:\"vlaue\",2:\"string\"}\n",
    "\n",
    "#key------int, float, string, bool, tuple-----------------immutable\n",
    "\n",
    "#vlaue-----int, float, string, bool, list, tuple, dict, set------------all data types\n",
    "\n",
    "print(dict1.keys())"
   ]
  },
  {
   "cell_type": "code",
   "execution_count": 126,
   "id": "34cb9ed1",
   "metadata": {},
   "outputs": [
    {
     "name": "stdout",
     "output_type": "stream",
     "text": [
      "dict_values(['vlaue', 'string'])\n"
     ]
    }
   ],
   "source": [
    "#Q47: How will you get all the values from the dictionary?\n",
    "\n",
    "dict1={1:\"vlaue\",2:\"string\"}\n",
    "print(dict1.values())"
   ]
  },
  {
   "cell_type": "code",
   "execution_count": 130,
   "id": "cec67cab",
   "metadata": {},
   "outputs": [
    {
     "name": "stdout",
     "output_type": "stream",
     "text": [
      "{1: ('*', '**', '***'), 2: ('*', '**', '***'), 3: ('*', '**', '***')}\n"
     ]
    }
   ],
   "source": [
    "#Q48: How will you create a dictionary using tuples in python?\n",
    "\n",
    "tup1=(1,2,3)\n",
    "tup2=(\"*\",\"**\",\"***\")\n",
    "dict1=dict.fromkeys(tup1,tup2)\n",
    "print(dict1)"
   ]
  },
  {
   "cell_type": "code",
   "execution_count": 1,
   "id": "8f9ec8b7",
   "metadata": {},
   "outputs": [
    {
     "name": "stdout",
     "output_type": "stream",
     "text": [
      "present\n"
     ]
    }
   ],
   "source": [
    "#Q49: Write a Python script to check if a given key already exists in a dictionary \n",
    "\n",
    "dict1 = {1: 'a', 2: 'b', 3: 'c'}\n",
    "\n",
    "if 2 in dict1:\n",
    "    print(\"present\")"
   ]
  },
  {
   "cell_type": "code",
   "execution_count": null,
   "id": "b88dad6f",
   "metadata": {},
   "outputs": [],
   "source": [
    "#Q50: How Do You Traverse Through A Dictionary Object In Python?\n",
    "\n",
    "To iterate through a dictionary in Python, there are four main approaches you can use: create a for loop, \n",
    "use items () to iterate through a dictionary’s key-value pairs, use keys () to iterate through a dictionary’s keys, \n",
    "or use values () to iterate through a dictionary’s values."
   ]
  },
  {
   "cell_type": "code",
   "execution_count": 140,
   "id": "1910221a",
   "metadata": {},
   "outputs": [
    {
     "name": "stdout",
     "output_type": "stream",
     "text": [
      "dict_keys([1, 2])\n"
     ]
    }
   ],
   "source": [
    "#51:How Do You Check The Presence Of A Key In A Dictionary?\n",
    "\n",
    "dict1={1:\"vlaue\",2:\"string\"}\n",
    "print(dict1.keys())"
   ]
  },
  {
   "cell_type": "code",
   "execution_count": 5,
   "id": "3a8c8618",
   "metadata": {},
   "outputs": [
    {
     "name": "stdout",
     "output_type": "stream",
     "text": [
      "{1: 1, 2: 4, 3: 9, 4: 16, 5: 25, 6: 36, 7: 49, 8: 64, 9: 81, 10: 100, 11: 121, 12: 144, 13: 169, 14: 196, 15: 225}\n",
      "dict_keys([1, 2, 3, 4, 5, 6, 7, 8, 9, 10, 11, 12, 13, 14, 15])\n",
      "dict_values([1, 4, 9, 16, 25, 36, 49, 64, 81, 100, 121, 144, 169, 196, 225])\n"
     ]
    }
   ],
   "source": [
    "#52: Write a Python script to print a dictionary where the keys are numbers between 1 and 15\n",
    "\n",
    "\n",
    "dict1={1: 1, 2: 4, 3: 9, 4: 16, 5: 25, 6: 36, 7: 49, 8: 64, 9: 81, 10: 100, 11: 121, 12: 144, 13: 169,\n",
    "        14: 196, 15: 225}\n",
    "\n",
    "print(dict1)\n",
    "\n",
    "print(dict1.keys())\n",
    "\n",
    "print(dict1.values())"
   ]
  },
  {
   "cell_type": "code",
   "execution_count": 6,
   "id": "b553de86",
   "metadata": {},
   "outputs": [
    {
     "name": "stdout",
     "output_type": "stream",
     "text": [
      "present\n"
     ]
    }
   ],
   "source": [
    "#53: Write a Python program to check multiple keys exists in a dictionary\n",
    "\n",
    "dict1 = {1: 'a', 2: 'b', 3: 'c'}\n",
    "\n",
    "if 2 in dict1:\n",
    "    print(\"present\")"
   ]
  },
  {
   "cell_type": "code",
   "execution_count": 7,
   "id": "8203886f",
   "metadata": {},
   "outputs": [
    {
     "name": "stdout",
     "output_type": "stream",
     "text": [
      "{'a': 100, 'b': 200, 'x': 300, 'y': 200}\n"
     ]
    }
   ],
   "source": [
    "#54: Write a Python script to merge two Python dictionaries\n",
    "\n",
    "d1 = {'a': 100, 'b': 200}\n",
    "d2 = {'x': 300, 'y': 200}\n",
    "d = d1.copy()\n",
    "d.update(d2)\n",
    "print(d)\n"
   ]
  },
  {
   "cell_type": "code",
   "execution_count": 8,
   "id": "8a198768",
   "metadata": {},
   "outputs": [
    {
     "name": "stdout",
     "output_type": "stream",
     "text": [
      "Dictionary Items  :   {'name': 'John', 'age': 25, 'job': 'Developer'}\n"
     ]
    }
   ],
   "source": [
    "#55: Write a Python program to map two lists into a dictionary\n",
    "\n",
    "keys = ['name', 'age', 'job']\n",
    "values = ['John', 25, 'Developer']\n",
    "\n",
    "myDict = {k: v for k, v in zip(keys, values)}\n",
    "print(\"Dictionary Items  :  \",  myDict)"
   ]
  },
  {
   "cell_type": "code",
   "execution_count": 9,
   "id": "48a6c68c",
   "metadata": {},
   "outputs": [
    {
     "name": "stdout",
     "output_type": "stream",
     "text": [
      "{'Geeks': 100, 'geek': 200, 'for': 325}\n"
     ]
    }
   ],
   "source": [
    "#56: Write a Python program to combine two dictionary adding values for common keys. \n",
    "\n",
    "dict1 = {'a': 12, 'for': 25, 'c': 9}\n",
    "dict2 = {'Geeks': 100, 'geek': 200, 'for': 300}\n",
    " \n",
    "for key in dict2:\n",
    "    if key in dict1:\n",
    "        dict2[key] = dict2[key] + dict1[key]\n",
    "    else:\n",
    "        pass\n",
    "         \n",
    "print(dict2)"
   ]
  },
  {
   "cell_type": "code",
   "execution_count": 10,
   "id": "d636a2b0",
   "metadata": {},
   "outputs": [
    {
     "name": "stdout",
     "output_type": "stream",
     "text": [
      "Original List:  [{'V': 'S001'}, {'V': 'S002'}, {'VI': 'S001'}, {'VI': 'S005'}, {'VII': 'S005'}, {'V': 'S009'}, {'VIII': 'S007'}]\n",
      "Unique Values:  {'S001', 'S002', 'S009', 'S005', 'S007'}\n"
     ]
    }
   ],
   "source": [
    "#57: Write a Python program to print all unique values in a dictionary. \n",
    "\n",
    "L = [{\"V\":\"S001\"}, {\"V\": \"S002\"}, {\"VI\": \"S001\"}, {\"VI\": \"S005\"}, {\"VII\":\"S005\"}, {\"V\":\"S009\"},{\"VIII\":\"S007\"}]\n",
    "print(\"Original List: \",L)\n",
    "u_value = set( val for dic in L for val in dic.values())\n",
    "print(\"Unique Values: \",u_value)"
   ]
  },
  {
   "cell_type": "code",
   "execution_count": null,
   "id": "1687ab2f",
   "metadata": {},
   "outputs": [],
   "source": [
    "#58: Why Do You Use The Zip() Method In Python?\n",
    "\n",
    "Python zip() method takes iterable or containers and returns a single iterator object,\n",
    "having mapped values from all the containers. \n",
    "\n",
    "It is used to map the similar index of multiple containers so that they can be used just using a single entity"
   ]
  },
  {
   "cell_type": "code",
   "execution_count": 11,
   "id": "eed53c76",
   "metadata": {},
   "outputs": [
    {
     "name": "stdout",
     "output_type": "stream",
     "text": [
      "a b\n",
      "c d\n"
     ]
    }
   ],
   "source": [
    "#59: Write a Python program to create and display all combinations of letters,\n",
    "#selecting each letter from a different key in a dictionary\n",
    "\n",
    "dic = {'1':['a','b'], '2':['c','d']}   \n",
    "for x ,y in dic.values():\n",
    "    print(x,y)"
   ]
  },
  {
   "cell_type": "code",
   "execution_count": 19,
   "id": "237d3f51",
   "metadata": {},
   "outputs": [
    {
     "name": "stdout",
     "output_type": "stream",
     "text": [
      "Dictionary with 3 highest values:\n",
      "Keys: Values\n",
      "r  : 21  \n",
      "t  : 6  \n",
      "o  : 5  \n"
     ]
    }
   ],
   "source": [
    "#60: Write a Python program to find the highest 3 values in a dictionary\n",
    "\n",
    "from collections import Counter\n",
    "\n",
    "dict1 = {'t': 3, 'u': 4, 't': 6, 'o': 5, 'r': 21}\n",
    "k = Counter(dict1)\n",
    "\n",
    "high = k.most_common(3)\n",
    "print(\"Dictionary with 3 highest values:\")\n",
    "print(\"Keys: Values\")\n",
    "for i in high:\n",
    "   print(i[0],\" :\",i[1],\" \")\n"
   ]
  },
  {
   "cell_type": "code",
   "execution_count": 21,
   "id": "4cebc6d4",
   "metadata": {},
   "outputs": [
    {
     "name": "stdout",
     "output_type": "stream",
     "text": [
      "{'w': 1, '3': 1, 'r': 1, 'e': 1, 's': 1, 'o': 1, 'u': 1, 'c': 1}\n"
     ]
    }
   ],
   "source": [
    "#A4. Write a Python program to create a dictionary from a string.\n",
    "#Note: Track the count of the letters from the string.\n",
    "#Sample string : 'w3resource'\n",
    "#Expected output: {'3': 1, 's': 1, 'r': 2, 'u': 1, 'w': 1, 'c': 1, 'e': 2, 'o': 1}\n",
    "\n",
    "str1=\"w3resource\"\n",
    "str2=1\n",
    "\n",
    "dict1=dict.fromkeys(str1,str2)\n",
    "print(dict1)"
   ]
  }
 ],
 "metadata": {
  "kernelspec": {
   "display_name": "Python 3 (ipykernel)",
   "language": "python",
   "name": "python3"
  },
  "language_info": {
   "codemirror_mode": {
    "name": "ipython",
    "version": 3
   },
   "file_extension": ".py",
   "mimetype": "text/x-python",
   "name": "python",
   "nbconvert_exporter": "python",
   "pygments_lexer": "ipython3",
   "version": "3.9.13"
  }
 },
 "nbformat": 4,
 "nbformat_minor": 5
}
