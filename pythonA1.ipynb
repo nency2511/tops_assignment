{
 "cells": [
  {
   "cell_type": "code",
   "execution_count": null,
   "id": "ea452de4",
   "metadata": {},
   "outputs": [],
   "source": [
    "#Q1:What is Python ,Name some of the features of Python?\n",
    "\n",
    "     \n",
    "    Python is an interpreted, object-oriented, high-level programming language with dynamic semantics. \n",
    "    It's high-level built in data structures, combined with dynamic typing.\n",
    "    Python is simple, easy to learn, it has easy syntax readability.\n",
    "    \n"
   ]
  },
  {
   "cell_type": "code",
   "execution_count": null,
   "id": "62de0c1f",
   "metadata": {},
   "outputs": [],
   "source": [
    "#Q2:Write a Python program to get the Python version you are using?\n",
    "\n",
    "  python -- version :3.8.4\n",
    "  \n"
   ]
  },
  {
   "cell_type": "code",
   "execution_count": null,
   "id": "5a3b4f48",
   "metadata": {},
   "outputs": [],
   "source": [
    "#Q3:Is python the right choice for Web based Programming?\n",
    "\n",
    "\n",
    "    Python has emerged as one of the top choices for web development due to its versatility,\n",
    "    its easy of use, and large community of developers.\n"
   ]
  },
  {
   "cell_type": "code",
   "execution_count": null,
   "id": "3d2a8315",
   "metadata": {},
   "outputs": [],
   "source": [
    "#Q4:Why was the language called as Python?\n",
    "\n",
    " \n",
    "    Guido van Rossum, the author of Python Programming Language was reading the published scripts  \n",
    "    from “Monty Python’s Flying Circus”, a BBC comedy series from the 1970s. \n",
    "    Van Rossum thought he needed a name that was short, unique, and slightly mysterious,\n",
    "    so he decided to call the language \"python\".\n"
   ]
  },
  {
   "cell_type": "code",
   "execution_count": 5,
   "id": "90b5721d",
   "metadata": {
    "scrolled": true
   },
   "outputs": [
    {
     "name": "stdout",
     "output_type": "stream",
     "text": [
      "*****Write a Python program to check if a number is positive, negative or zero.*****\n",
      "  enter your number you want to check: -8\n",
      "_____negative_____\n"
     ]
    }
   ],
   "source": [
    "#Q5:Write a Python program to check if a number is positive, negative or zero.\n",
    "\n",
    "\n",
    "print(\"*****Write a Python program to check if a number is positive, negative or zero.*****\")\n",
    "num=int(input(\"  enter your number you want to check: \"))\n",
    "if num>0:\n",
    "    print(\"_____positive_____\")\n",
    "elif num<0:\n",
    "    print(\"_____negative_____\")\n",
    "else:\n",
    "    print(\"_____zero_____\")"
   ]
  },
  {
   "cell_type": "code",
   "execution_count": null,
   "id": "0768b1b4",
   "metadata": {},
   "outputs": [],
   "source": [
    "#Q6:What is the language from which Python has got it's features or derived its features? \n",
    "\n",
    "\n",
    "    Most of the object oriented programming languages to name a few are C++, CLISP and Java\n",
    "    is the language from which Python has got its features or derived its features.\n"
   ]
  },
  {
   "cell_type": "code",
   "execution_count": 1,
   "id": "55f37e75",
   "metadata": {},
   "outputs": [
    {
     "name": "stdout",
     "output_type": "stream",
     "text": [
      "***** Write a Python program to check if variable is of integer or string.*****\n",
      "<class 'int'>\n",
      "<class 'str'>\n"
     ]
    }
   ],
   "source": [
    "#Q7:Write a Python program to check if variable is of integer or string.\n",
    "\n",
    "\n",
    "print(\"***** Write a Python program to check if variable is of integer or string.*****\")\n",
    "variable1=int(123)\n",
    "variable2=str(\"nency\")\n",
    "print(type(variable1))\n",
    "print(type(variable2))\n"
   ]
  },
  {
   "cell_type": "code",
   "execution_count": null,
   "id": "1a9f7bac",
   "metadata": {},
   "outputs": [],
   "source": [
    "#Q8:Does python support switch or case statement in Python? If not what is the reason for the same?\n",
    "\n",
    "\n",
    "    it is usually found that the use of switch statements is very rare while programming in the python language.\n",
    "    So, always a question arises whether the python language supports the switch \tase statements or not?\n",
    "    Well, the answer to this question is \"NO\".\n",
    "\n",
    "    Python doesn’t have a switch/case statement because of Unsatisfactory Proposals. \n",
    "    Most programming languages have switch/case because they don’t have proper mapping constructs. \n",
    "    You cannot map a value to a function, that’s why they have it.\n",
    "\n",
    "    A switch case statement is a multi-branched statement which compares the value of a variable to \n",
    "    the values specified in the cases. Python does not have a switch statement but it can be implemented using\n",
    "    other methods, which will be discussed below.\n"
   ]
  },
  {
   "cell_type": "code",
   "execution_count": null,
   "id": "3a29380d",
   "metadata": {},
   "outputs": [],
   "source": [
    "#Q9:How Python is interpreted?\n",
    "\n",
    "   \n",
    "   \n",
    "    Python is a general-purpose interpreted, interactive, object-oriented, and high-level  \tprogramming language. \n",
    "    Python is processed at runtime by the interpreter. You do not need to compile your program before executing it. \n",
    "\n",
    "#Steps of Execution\n",
    "\tStep1 − A Python source code is written by the coder. File extension: .py\n",
    "\n",
    "\tStep 2 − The Python source code a coder writes is compiled into python bytecode. \n",
    "    In this process, a file with the extension .pyc gets created.\n",
    "\n",
    "\tStep 3 − The Virtual Machine executes the .pyc extension file. \n",
    "    Consider the Virtual Machine is the runtime engine of Python. This is where the Python program runs.\n",
    "\n",
    "    Therefore, the Python Interpreter includes the process of Program Compilation,\n",
    "    which in-turn compiles into bytecode, then the execution by Virtual Machine.\n",
    "    "
   ]
  },
  {
   "cell_type": "code",
   "execution_count": 1,
   "id": "ef464569",
   "metadata": {},
   "outputs": [
    {
     "name": "stdout",
     "output_type": "stream",
     "text": [
      "enter your number you want to find factorial: 5\n",
      "1\n",
      "2\n",
      "6\n",
      "24\n",
      "120\n"
     ]
    }
   ],
   "source": [
    "#Q:10 Write a Python program to get the Factorial number of given number.\n",
    "\n",
    "num=int(input(\"enter your number you want to find factorial: \"))\n",
    "fact=1;\n",
    "for i in range(1,num+1):\n",
    "    fact=fact*i\n",
    "    print(fact)\n",
    "    "
   ]
  },
  {
   "cell_type": "code",
   "execution_count": 1,
   "id": "a4ffdd15",
   "metadata": {},
   "outputs": [
    {
     "name": "stdout",
     "output_type": "stream",
     "text": [
      "How many terms? 6\n",
      "Fibonacci sequence:\n",
      "0\n",
      "1\n",
      "1\n",
      "2\n",
      "3\n",
      "5\n"
     ]
    }
   ],
   "source": [
    "#Q11: Write a Python program to get the Fibonacci series of given range.\n",
    "\n",
    "nterms = int(input(\"How many terms? \"))\n",
    "\n",
    "n1, n2 = 0, 1\n",
    "count = 0\n",
    "\n",
    "if nterms <= 0:\n",
    "   print(\"Please enter a positive integer\")\n",
    "\n",
    "elif nterms == 1:\n",
    "   print(\"Fibonacci sequence upto\",nterms,\":\")\n",
    "   print(n1)\n",
    "    \n",
    "else:\n",
    "   print(\"Fibonacci sequence:\")\n",
    "   while count < nterms:\n",
    "       print(n1)\n",
    "       nth = n1 + n2\n",
    "   \n",
    "       n1 = n2\n",
    "       n2 = nth\n",
    "       count += 1"
   ]
  },
  {
   "cell_type": "code",
   "execution_count": null,
   "id": "0c8b32d5",
   "metadata": {},
   "outputs": [],
   "source": [
    "#Q12:How memory is managed in Python?\n",
    "    \n",
    "    \n",
    "    According to the Python memory management documentation, Python has a private heap that stores our program’s objects\n",
    "    and data structures. Python memory manager takes care of the bulk of the memory management work and allows us to \n",
    "    concentrate on our code.\n",
    "\n",
    "# Types of memory allocation\n",
    "    There are two types of memory allocation in Python, static and dynamic.\n",
    "\n",
    "    #1. Static memory\n",
    "    The stack data structure provides static memory allocation, meaning the variables are in the stack memory. \n",
    "    Statically assigned variables, as the name implies, are permanent; this means that they must be allocated \n",
    "    in advance and persist for the duration of the program. Another point to remember is that we cannot reuse \n",
    "    the memory allocated in the stack memory. Therefore, memory reusability is not possible.\n",
    "    \n",
    "    #2. Dynamic memory\n",
    "    The dynamic memory allocation uses heap data structures in its implementation, implying that variables\n",
    "    are in the heap memory. As the name suggests, dynamically allocated variables are not permanent and can \n",
    "    be changed while a program is running. Additionally, allotted memory can be relinquished and reused. However,\n",
    "    it takes longer to complete because dynamic memory allocation occurs during program execution. Furthermore, \n",
    "    after utilizing the allocated memory, we must release it. Otherwise, problems such as memory leaks might arise.\n",
    "    "
   ]
  },
  {
   "cell_type": "code",
   "execution_count": null,
   "id": "6b657816",
   "metadata": {},
   "outputs": [],
   "source": [
    "#Q13:what is namespace in python?\n",
    "    \n",
    "    In simple words, A namespace is a collection of names and the details of the objects referenced by the names. \n",
    "    We can consider a namespace as a python dictionary which maps object names to objects. The keys of the \n",
    "    dictionary correspond to the names and the values correspond to the objects in python. \n",
    "\n",
    "    In python, there are four types of namespaces, namely built-in namespaces,global namespaces,\n",
    "    local namespaces and enclosing namespaces. We will study about each of them in the following sections."
   ]
  },
  {
   "cell_type": "code",
   "execution_count": null,
   "id": "77712512",
   "metadata": {},
   "outputs": [],
   "source": [
    "#Q14:What is the purpose continue statement in python?\n",
    "\n",
    "    \n",
    "    Python Continue statement is a loop control statement that forces to execute the next iteration of the\n",
    "    loop while skipping the rest of the code inside the loop for the current iteration only,\n",
    "    i.e. when the continue statement is executed in the loop, the code inside the loop following the continue\n",
    "    statement will be skipped for the current iteration and the next iteration of the loop will begin"
   ]
  },
  {
   "cell_type": "code",
   "execution_count": 29,
   "id": "bfaed661",
   "metadata": {
    "scrolled": true
   },
   "outputs": [
    {
     "name": "stdout",
     "output_type": "stream",
     "text": [
      "num1 is: 3\n",
      "num2 is: 4\n",
      "\n",
      "after swaping:\n",
      "\n",
      "num1 is 4\n",
      "num2 is 3\n"
     ]
    }
   ],
   "source": [
    "#Assignment Level Intermediate\n",
    "\n",
    "#I1: Write python program that swap two number with temp variable and without temp variable.\n",
    "\n",
    "\n",
    "#with temp variable-----\n",
    "num1=int(input(\"num1 is: \"))\n",
    "num2=int(input(\"num2 is: \"))\n",
    "\n",
    "\n",
    "temp=num1\n",
    "num1=num2\n",
    "num2=temp\n",
    "\n",
    "print(\"\\nafter swaping:\")\n",
    "print(f\"\\nnum1 is {num1}\")\n",
    "print(f\"num2 is {num2}\")\n"
   ]
  },
  {
   "cell_type": "code",
   "execution_count": 28,
   "id": "62ded6e3",
   "metadata": {
    "scrolled": true
   },
   "outputs": [
    {
     "name": "stdout",
     "output_type": "stream",
     "text": [
      "num1 is: 3\n",
      "num2 is: 4\n",
      "\n",
      "after swaping:\n",
      "\n",
      "num1 is 4\n",
      "num2 is 3\n"
     ]
    }
   ],
   "source": [
    "#without temp variable-----\n",
    "\n",
    "num1=int(input(\"num1 is: \"))\n",
    "num2=int(input(\"num2 is: \"))\n",
    "num1,num2=num2,num1\n",
    "print(\"\\nafter swaping:\")\n",
    "print(f\"\\nnum1 is {num1}\")\n",
    "print(f\"num2 is {num2}\")\n"
   ]
  },
  {
   "cell_type": "code",
   "execution_count": 35,
   "id": "8b5929c2",
   "metadata": {},
   "outputs": [
    {
     "name": "stdout",
     "output_type": "stream",
     "text": [
      "enter the number you want to cheack is even or odd: 5\n",
      "\n",
      "\t\t\t\t\t*****number is odd*****\n"
     ]
    }
   ],
   "source": [
    "#I2:Write a Python program to find whether a given number is even or odd, print out an appropriate message to the user.\n",
    "\n",
    "num=int(input(\"enter the number you want to cheack is even or odd: \"))\n",
    "if num%2==0:\n",
    "    print(\"\\n\\t\\t\\t\\t\\t*****number is even*****\")\n",
    "else:\n",
    "    print(\"\\n\\t\\t\\t\\t\\t*****number is odd*****\")"
   ]
  },
  {
   "cell_type": "code",
   "execution_count": 45,
   "id": "5807dd95",
   "metadata": {},
   "outputs": [
    {
     "name": "stdout",
     "output_type": "stream",
     "text": [
      "enter base of triangle: 1\n",
      "enter hight of triangle: 1\n",
      "\n",
      "area of triangle = 0.5\n"
     ]
    }
   ],
   "source": [
    "#I3: Write a Python program that compute the area of following:\n",
    "\n",
    "#1) Triangle (accepts base and height)\n",
    "\n",
    "base=int(input(\"enter base of triangle: \"))\n",
    "height=int(input(\"enter hight of triangle: \"))\n",
    "area=1/2*base*height\n",
    "print(f\"\\narea of triangle = {area}\")\n"
   ]
  },
  {
   "cell_type": "code",
   "execution_count": 46,
   "id": "7ccaad48",
   "metadata": {
    "scrolled": true
   },
   "outputs": [
    {
     "name": "stdout",
     "output_type": "stream",
     "text": [
      "enter the radius of circle: 1\n",
      "\n",
      "area of circle = 3.14\n"
     ]
    }
   ],
   "source": [
    "#2) Circle (accept radius)\n",
    "\n",
    "pie=3.14\n",
    "r=int(input(\"enter the radius of circle: \"))\n",
    "area=pie*r*r\n",
    "print(f\"\\narea of circle = {area}\")"
   ]
  },
  {
   "cell_type": "code",
   "execution_count": 28,
   "id": "945c384a",
   "metadata": {},
   "outputs": [
    {
     "name": "stdout",
     "output_type": "stream",
     "text": [
      "enter any one character to test passed letter is vowel or not:a\n",
      "\n",
      "\t\t\t\t\t_____vowel_____\n"
     ]
    }
   ],
   "source": [
    "#I4: Write a Python program to test whether a passed letter is a vowel or not\n",
    "\n",
    "str1=str(input(\"enter any one character to test passed letter is vowel or not:\"))\n",
    "if str1=='a':\n",
    "    print(\"\\n\\t\\t\\t\\t\\t_____vowel_____\")\n",
    "    \n",
    "elif str1=='e':\n",
    "    print(\"\\n\\t\\t\\t\\t\\t_____vowel_____\")\n",
    "    \n",
    "elif str1=='i':\n",
    "    print(\"\\n\\t\\t\\t\\t\\t_____vowel_____\")  \n",
    "    \n",
    "elif str1=='o':\n",
    "    print(\"\\n\\t\\t\\t\\t\\t_____vowel_____\")\n",
    "    \n",
    "elif str1=='u':\n",
    "    print(\"\\n\\t\\t\\t\\t\\t_____vowel_____\")   \n",
    "    \n",
    "elif str1=='A':\n",
    "    print(\"\\n\\t\\t\\t\\t\\t_____vowel_____\")   \n",
    "    \n",
    "elif str1=='E':\n",
    "    print(\"\\n\\t\\t\\t\\t\\t_____vowel_____\")   \n",
    "    \n",
    "elif str1=='I':\n",
    "    print(\"\\n\\t\\t\\t\\t\\t_____vowel_____\")  \n",
    "    \n",
    "elif str1=='O':\n",
    "    print(\"\\n\\t\\t\\t\\t\\t_____vowel_____\")\n",
    "    \n",
    "elif str1=='U':\n",
    "    print(\"\\n\\t\\t\\t\\t\\t_____vowel_____\")       \n",
    "    \n",
    "else:\n",
    "    print(\"\\n\\t\\t\\t\\t\\t not vowel!\")"
   ]
  },
  {
   "cell_type": "code",
   "execution_count": 60,
   "id": "999a8d45",
   "metadata": {},
   "outputs": [
    {
     "name": "stdout",
     "output_type": "stream",
     "text": [
      "here, let's consider\n",
      "\n",
      "\t p = principal amount...\n",
      "\t r = rate of interest...\n",
      "\t n = number of years...\n",
      "enter amount: 50000\n",
      "enter interest: 1.5\n",
      "enter year 1.5\n",
      "13500.0\n"
     ]
    }
   ],
   "source": [
    "#I5: Write a Python program to compute the value of a specified principal amount, rate of interest, and a number of years.\n",
    "\n",
    "print(\"here, let's consider\")\n",
    "print(\"\\n\\t p = principal amount...\")\n",
    "print(\"\\t r = rate of interest...\")\n",
    "print(\"\\t n = number of years...\")\n",
    "\n",
    "\n",
    "p=int(input(\"enter amount: \"))\n",
    "r=float(input(\"enter interest: \"))\n",
    "n=float(input(\"enter year \"))\n",
    "n=n*12\n",
    "i=(p*r*n)/100\n",
    "\n",
    "print(i)"
   ]
  },
  {
   "cell_type": "code",
   "execution_count": null,
   "id": "09eea975",
   "metadata": {},
   "outputs": [],
   "source": [
    "#I6: What are the tools that help to find bugs or perform static analysis?\n",
    "\n",
    "\"Pychecker\" and \"Pylint\" are the static analysis tools that help to find bugs in python.\n"
   ]
  },
  {
   "cell_type": "code",
   "execution_count": null,
   "id": "b5614871",
   "metadata": {},
   "outputs": [],
   "source": [
    "#I7: What are Python decorators?\n",
    "\n",
    "    In Python, a decorator is a design pattern that allows you to modify the functionality of \n",
    "    a function by wrapping it in another function.\n",
    "\n",
    "    The outer function is called the decorator, which takes the original function as an argument\n",
    "    and returns a modified version of it.\n"
   ]
  },
  {
   "cell_type": "code",
   "execution_count": null,
   "id": "8065b6c1",
   "metadata": {},
   "outputs": [],
   "source": [
    "#I8 What is PEP 8?\n",
    " \n",
    "    PEP 8 is a document that provides various guidelines to write the readable in Python. \n",
    "    PEP 8 describes how the developer can write beautiful code. It was officially written \n",
    "    in 2001 by Guido van Rossum, Barry Warsaw, and Nick Coghlan. The main aim of PEP is to\n",
    "    enhance the readability and consistency of code.\n"
   ]
  }
 ],
 "metadata": {
  "kernelspec": {
   "display_name": "Python 3 (ipykernel)",
   "language": "python",
   "name": "python3"
  },
  "language_info": {
   "codemirror_mode": {
    "name": "ipython",
    "version": 3
   },
   "file_extension": ".py",
   "mimetype": "text/x-python",
   "name": "python",
   "nbconvert_exporter": "python",
   "pygments_lexer": "ipython3",
   "version": "3.9.13"
  }
 },
 "nbformat": 4,
 "nbformat_minor": 5
}
