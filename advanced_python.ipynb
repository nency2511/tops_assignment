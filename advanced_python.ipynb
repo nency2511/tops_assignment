{
 "cells": [
  {
   "cell_type": "code",
   "execution_count": null,
   "id": "bdb297d9",
   "metadata": {},
   "outputs": [],
   "source": [
    "Q1: What are oops concepts?is multiple inheritance supported in java.\n",
    "    \n",
    "-----> Inheritance is an important pillar of OOP (Object Oriented Programming). It is the mechanism in Java by which\n",
    "      one class is allowed to inherit the features (fields and methods) of another class.\n",
    "      We are achieving inheritance by using extends keyword. Inheritance is also known as “ is-a ” relationship.\n",
    "        \n",
    "-----> NO, multiple inheritance is not supported by Java."
   ]
  },
  {
   "cell_type": "code",
   "execution_count": null,
   "id": "f2fdd5ef",
   "metadata": {},
   "outputs": [],
   "source": [
    "Q2: How To Define a Class in Python?\n",
    "\n",
    "-----> class class_name:    "
   ]
  },
  {
   "cell_type": "code",
   "execution_count": 19,
   "id": "4a5b713e",
   "metadata": {},
   "outputs": [
    {
     "name": "stdout",
     "output_type": "stream",
     "text": [
      "120\n"
     ]
    }
   ],
   "source": [
    "#Q3: Write a Python class named Rectangle constructed by length and width and a \n",
    " #   method which will compute the area of a rectangle\n",
    "\n",
    "class rect():\n",
    "    def __init__(self, l, w):\n",
    "        self.length = l\n",
    "        self.width  = w\n",
    "\n",
    "    def area(self):\n",
    "        return self.length*self.width\n",
    "\n",
    "rect2 = rect(12, 10)\n",
    "print(rect2.area())    "
   ]
  },
  {
   "cell_type": "code",
   "execution_count": 26,
   "id": "c845d532",
   "metadata": {},
   "outputs": [
    {
     "name": "stdout",
     "output_type": "stream",
     "text": [
      "200.96\n",
      "50.24\n"
     ]
    },
    {
     "data": {
      "text/plain": [
       "'The Default __init__ Constructor in C++ and Java. Constructors are used to initializing the object’s state. \\nThe task of constructors is to initialize(assign values) to the data members of the class when an object of the \\nclass is created. Like methods, a constructor also contains a collection of statements(i.e. instructions) that \\nare executed at the time of Object creation. It is run as soon as an object of a class is instantiated. The method\\nis useful to do any \\ninitialization you want to do with your object.'"
      ]
     },
     "execution_count": 26,
     "metadata": {},
     "output_type": "execute_result"
    }
   ],
   "source": [
    "#Q4: Write a Python class named Circle constructed by a radius and two methods\n",
    "  #  which will compute the area and the perimeter of a circle\n",
    "    \n",
    "class Circle():\n",
    "    def __init__(self, r):\n",
    "        self.radius = r\n",
    "\n",
    "    def area(self):\n",
    "        return self.radius**2*3.14\n",
    "    \n",
    "    def perimeter(self):\n",
    "        return 2*self.radius*3.14\n",
    "\n",
    "NewCircle = Circle(8)\n",
    "print(NewCircle.area())\n",
    "print(NewCircle.perimeter())\n",
    "\n",
    "\n",
    "\n",
    "\n"
   ]
  },
  {
   "cell_type": "code",
   "execution_count": 27,
   "id": "02ff777e",
   "metadata": {},
   "outputs": [
    {
     "name": "stdout",
     "output_type": "stream",
     "text": [
      "Geek1 False\n",
      "Geek2 True\n"
     ]
    },
    {
     "data": {
      "text/plain": [
       "'The Default __init__ Constructor in C++ and Java. Constructors are used to initializing the object’s state. \\nThe task of constructors is to initialize(assign values) to the data members of the class when an object of the \\nclass is created. Like methods, a constructor also contains a collection of statements(i.e. instructions) that \\nare executed at the time of Object creation. It is run as soon as an object of a class is instantiated. The method\\nis useful to do any \\ninitialization you want to do with your object.'"
      ]
     },
     "execution_count": 27,
     "metadata": {},
     "output_type": "execute_result"
    }
   ],
   "source": [
    "#Q5: Explain Inheritance in Python with an example.?What Is __init__ Or What Is A Constructor In Python?\n",
    "\n",
    "#----->syntax of inheritance:\n",
    "\n",
    "    # define a superclass\n",
    "#class super_class:\n",
    "    # attributes and method definition\n",
    "\n",
    "# inheritance\n",
    "#class sub_class:\n",
    "    # attributes and method of super_class\n",
    "    # attributes and method of sub_class\n",
    "    \n",
    "    \n",
    "#Python inheritance in which a child class is inheriting the properties of its parent class.\n",
    "#In this example, ‘Person’ is the parent class, and ‘Employee’ is its child class.  \n",
    "\n",
    "\n",
    "\n",
    "class Person(object):\n",
    "\n",
    "\t# Constructor\n",
    "\tdef __init__(self, name):\n",
    "\t\tself.name = name\n",
    "\n",
    "\t# To get name\n",
    "\tdef getName(self):\n",
    "\t\treturn self.name\n",
    "\n",
    "\t# To check if this person is an employee\n",
    "\tdef isEmployee(self):\n",
    "\t\treturn False\n",
    "\n",
    "\n",
    "# Inherited or Subclass (Note Person in bracket)\n",
    "class Employee(Person):\n",
    "\n",
    "\t# Here we return true\n",
    "\tdef isEmployee(self):\n",
    "\t\treturn True\n",
    "\n",
    "\n",
    "# Driver code\n",
    "emp = Person(\"Geek1\") # An Object of Person\n",
    "print(emp.getName(), emp.isEmployee())\n",
    "\n",
    "emp = Employee(\"Geek2\") # An Object of Employee\n",
    "print(emp.getName(), emp.isEmployee())\n",
    "\n",
    "\n",
    "\n",
    "\n",
    "\n",
    "\n",
    "\n",
    "\n",
    "\n",
    "\n",
    "'''The Default __init__ Constructor in C++ and Java. Constructors are used to initializing the object’s state. \n",
    "The task of constructors is to initialize(assign values) to the data members of the class when an object of the \n",
    "class is created. Like methods, a constructor also contains a collection of statements(i.e. instructions) that \n",
    "are executed at the time of Object creation. It is run as soon as an object of a class is instantiated. The method\n",
    "is useful to do any \n",
    "initialization you want to do with your object.'''\n",
    "\n"
   ]
  },
  {
   "cell_type": "code",
   "execution_count": null,
   "id": "537b5a17",
   "metadata": {},
   "outputs": [],
   "source": [
    "Q7: What is Instantiation in terms of OOP terminology?\n",
    "    \n",
    "-----> Instantiate (a verb) and instantiation (the noun) in computer science refer to the creation of an object\n",
    "       (or an “instance” of a given class) in an object-oriented programming (OOP) language. Referencing a class\n",
    "       declaration, an instantiated object is named and created, in memory or on disk.    "
   ]
  },
  {
   "cell_type": "code",
   "execution_count": null,
   "id": "a91ee070",
   "metadata": {},
   "outputs": [],
   "source": [
    "Q8: What is used To check whether an object o is an instance of class A?\n",
    "    \n",
    "----->As the name suggests, the Python isinstance () method is an in-built method which checks whether an \n",
    "      object is an instance of any particular class or not    "
   ]
  },
  {
   "cell_type": "code",
   "execution_count": null,
   "id": "49925039",
   "metadata": {},
   "outputs": [],
   "source": [
    "Q10: What relationship is appropriate for Student and Person?\n",
    "    \n",
    "---->Create a class named Student, which will inherit the properties and methods from the Person class: class Student \n",
    "    (Person):\n",
    "    pass Note: Use the pass keyword when you do not want to add any other properties or methods to the class.\n",
    "    Now the Student class has the same properties and methods as the Person class."
   ]
  },
  {
   "cell_type": "code",
   "execution_count": 29,
   "id": "bb770466",
   "metadata": {},
   "outputs": [
    {
     "name": "stdout",
     "output_type": "stream",
     "text": [
      "3\n",
      "GeeksFor\n",
      "12\n",
      "GeeksGeeksGeeksGeeks\n"
     ]
    }
   ],
   "source": [
    "#Q11: Which function overloads the + operator?Which operator is overloaded by invert ()? \n",
    "    \n",
    " #   ‘+’ operator is overloaded by int class and str class.\n",
    "\n",
    "#ex:\n",
    "\n",
    "# Python program to show use of\n",
    "# + operator for different purposes.\n",
    "\n",
    "print(1 + 2)\n",
    "\n",
    "print(\"Geeks\"+\"For\")\n",
    "\n",
    "print(3 * 4)\n",
    "\n",
    "print(\"Geeks\"*4)\n",
    "\n"
   ]
  },
  {
   "cell_type": "code",
   "execution_count": 30,
   "id": "b1441745",
   "metadata": {},
   "outputs": [
    {
     "name": "stdout",
     "output_type": "stream",
     "text": [
      "20\n"
     ]
    }
   ],
   "source": [
    "#Q12: Create a class called Numbers, which has a single class attribute called\n",
    "#MULTIPLIER, and a constructor which takes the parameters x and y\n",
    "\n",
    "class numbers():\n",
    "    def __init__(self,x,y):\n",
    "        self.x1=x\n",
    "        self.y1=y\n",
    "        \n",
    "    def multiplier(self):\n",
    "        return self.x1*self.y1\n",
    "        \n",
    "num2=numbers(5,4)\n",
    "print(num2.multiplier())    "
   ]
  },
  {
   "cell_type": "code",
   "execution_count": 32,
   "id": "e9ff4656",
   "metadata": {},
   "outputs": [
    {
     "name": "stdout",
     "output_type": "stream",
     "text": [
      "8\n"
     ]
    }
   ],
   "source": [
    "#Q13: Write a Python class to implement pow(x, n)\n",
    "\n",
    "\n",
    "class numbers():\n",
    "    def __init__(self,x,y):\n",
    "        self.x1=x\n",
    "        self.y1=y\n",
    "        \n",
    "    def power(self):\n",
    "        return self.x1*self.x1*self.x1\n",
    "        \n",
    "num2=numbers(2,3)\n",
    "print(num2.power())    "
   ]
  }
 ],
 "metadata": {
  "kernelspec": {
   "display_name": "Python 3 (ipykernel)",
   "language": "python",
   "name": "python3"
  },
  "language_info": {
   "codemirror_mode": {
    "name": "ipython",
    "version": 3
   },
   "file_extension": ".py",
   "mimetype": "text/x-python",
   "name": "python",
   "nbconvert_exporter": "python",
   "pygments_lexer": "ipython3",
   "version": "3.9.13"
  }
 },
 "nbformat": 4,
 "nbformat_minor": 5
}
